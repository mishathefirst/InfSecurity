{
 "cells": [
  {
   "cell_type": "markdown",
   "metadata": {},
   "source": [
    "# Используемые модули"
   ]
  },
  {
   "cell_type": "code",
   "execution_count": null,
   "metadata": {},
   "outputs": [],
   "source": [
    "import pandas as pd\n",
    "from sklearn.metrics import accuracy_score, f1_score, precision_score, recall_score\n",
    "from sklearn.ensemble import RandomForestClassifier\n",
    "!pip install --upgrade scikit-learn==0.23.0"
   ]
  },
  {
   "cell_type": "markdown",
   "metadata": {},
   "source": [
    "# Импортируем датасеты"
   ]
  },
  {
   "cell_type": "code",
   "execution_count": 2,
   "metadata": {},
   "outputs": [
    {
     "data": {
      "text/html": [
       "<div>\n",
       "<style scoped>\n",
       "    .dataframe tbody tr th:only-of-type {\n",
       "        vertical-align: middle;\n",
       "    }\n",
       "\n",
       "    .dataframe tbody tr th {\n",
       "        vertical-align: top;\n",
       "    }\n",
       "\n",
       "    .dataframe thead th {\n",
       "        text-align: right;\n",
       "    }\n",
       "</style>\n",
       "<table border=\"1\" class=\"dataframe\">\n",
       "  <thead>\n",
       "    <tr style=\"text-align: right;\">\n",
       "      <th></th>\n",
       "      <th>avg_word_len</th>\n",
       "      <th>short_word_freq</th>\n",
       "      <th>digit_freq</th>\n",
       "      <th>uppercase_freq</th>\n",
       "      <th>alpha_freq</th>\n",
       "      <th>hapaxhaeco</th>\n",
       "      <th>hapaxned</th>\n",
       "      <th>hapaxdug</th>\n",
       "      <th>hapaxaronnd</th>\n",
       "      <th>hapaxpowerpl</th>\n",
       "      <th>...</th>\n",
       "      <th>th</th>\n",
       "      <th>tha</th>\n",
       "      <th>the.1</th>\n",
       "      <th>tio</th>\n",
       "      <th>to</th>\n",
       "      <th>ts</th>\n",
       "      <th>ut</th>\n",
       "      <th>ve</th>\n",
       "      <th>ver</th>\n",
       "      <th>author</th>\n",
       "    </tr>\n",
       "  </thead>\n",
       "  <tbody>\n",
       "    <tr>\n",
       "      <th>0</th>\n",
       "      <td>4.570743</td>\n",
       "      <td>0.707434</td>\n",
       "      <td>0.000000</td>\n",
       "      <td>0.022575</td>\n",
       "      <td>0.796823</td>\n",
       "      <td>False</td>\n",
       "      <td>False</td>\n",
       "      <td>False</td>\n",
       "      <td>False</td>\n",
       "      <td>False</td>\n",
       "      <td>...</td>\n",
       "      <td>3</td>\n",
       "      <td>5</td>\n",
       "      <td>42</td>\n",
       "      <td>1</td>\n",
       "      <td>17</td>\n",
       "      <td>3</td>\n",
       "      <td>3</td>\n",
       "      <td>4</td>\n",
       "      <td>4</td>\n",
       "      <td>GrahamEarnshaw</td>\n",
       "    </tr>\n",
       "    <tr>\n",
       "      <th>1</th>\n",
       "      <td>4.648148</td>\n",
       "      <td>0.708995</td>\n",
       "      <td>0.013423</td>\n",
       "      <td>0.025503</td>\n",
       "      <td>0.786130</td>\n",
       "      <td>False</td>\n",
       "      <td>False</td>\n",
       "      <td>False</td>\n",
       "      <td>False</td>\n",
       "      <td>False</td>\n",
       "      <td>...</td>\n",
       "      <td>4</td>\n",
       "      <td>4</td>\n",
       "      <td>45</td>\n",
       "      <td>0</td>\n",
       "      <td>8</td>\n",
       "      <td>2</td>\n",
       "      <td>5</td>\n",
       "      <td>0</td>\n",
       "      <td>2</td>\n",
       "      <td>GrahamEarnshaw</td>\n",
       "    </tr>\n",
       "    <tr>\n",
       "      <th>2</th>\n",
       "      <td>4.762745</td>\n",
       "      <td>0.668627</td>\n",
       "      <td>0.019620</td>\n",
       "      <td>0.015761</td>\n",
       "      <td>0.781280</td>\n",
       "      <td>False</td>\n",
       "      <td>False</td>\n",
       "      <td>False</td>\n",
       "      <td>False</td>\n",
       "      <td>False</td>\n",
       "      <td>...</td>\n",
       "      <td>11</td>\n",
       "      <td>5</td>\n",
       "      <td>46</td>\n",
       "      <td>14</td>\n",
       "      <td>19</td>\n",
       "      <td>14</td>\n",
       "      <td>5</td>\n",
       "      <td>1</td>\n",
       "      <td>5</td>\n",
       "      <td>GrahamEarnshaw</td>\n",
       "    </tr>\n",
       "    <tr>\n",
       "      <th>3</th>\n",
       "      <td>4.700368</td>\n",
       "      <td>0.648897</td>\n",
       "      <td>0.007521</td>\n",
       "      <td>0.022877</td>\n",
       "      <td>0.801316</td>\n",
       "      <td>False</td>\n",
       "      <td>False</td>\n",
       "      <td>False</td>\n",
       "      <td>False</td>\n",
       "      <td>False</td>\n",
       "      <td>...</td>\n",
       "      <td>4</td>\n",
       "      <td>7</td>\n",
       "      <td>53</td>\n",
       "      <td>1</td>\n",
       "      <td>22</td>\n",
       "      <td>10</td>\n",
       "      <td>8</td>\n",
       "      <td>9</td>\n",
       "      <td>5</td>\n",
       "      <td>GrahamEarnshaw</td>\n",
       "    </tr>\n",
       "    <tr>\n",
       "      <th>4</th>\n",
       "      <td>4.925781</td>\n",
       "      <td>0.636719</td>\n",
       "      <td>0.014209</td>\n",
       "      <td>0.016104</td>\n",
       "      <td>0.796337</td>\n",
       "      <td>False</td>\n",
       "      <td>False</td>\n",
       "      <td>False</td>\n",
       "      <td>False</td>\n",
       "      <td>False</td>\n",
       "      <td>...</td>\n",
       "      <td>4</td>\n",
       "      <td>4</td>\n",
       "      <td>44</td>\n",
       "      <td>4</td>\n",
       "      <td>16</td>\n",
       "      <td>16</td>\n",
       "      <td>5</td>\n",
       "      <td>12</td>\n",
       "      <td>6</td>\n",
       "      <td>GrahamEarnshaw</td>\n",
       "    </tr>\n",
       "  </tbody>\n",
       "</table>\n",
       "<p>5 rows × 822 columns</p>\n",
       "</div>"
      ],
      "text/plain": [
       "   avg_word_len  short_word_freq  digit_freq  uppercase_freq  alpha_freq  \\\n",
       "0      4.570743         0.707434    0.000000        0.022575    0.796823   \n",
       "1      4.648148         0.708995    0.013423        0.025503    0.786130   \n",
       "2      4.762745         0.668627    0.019620        0.015761    0.781280   \n",
       "3      4.700368         0.648897    0.007521        0.022877    0.801316   \n",
       "4      4.925781         0.636719    0.014209        0.016104    0.796337   \n",
       "\n",
       "   hapaxhaeco  hapaxned  hapaxdug  hapaxaronnd  hapaxpowerpl  ...  th   tha  \\\n",
       "0       False     False     False        False         False  ...    3    5   \n",
       "1       False     False     False        False         False  ...    4    4   \n",
       "2       False     False     False        False         False  ...   11    5   \n",
       "3       False     False     False        False         False  ...    4    7   \n",
       "4       False     False     False        False         False  ...    4    4   \n",
       "\n",
       "   the.1  tio  to   ts   ut   ve   ver          author  \n",
       "0     42    1   17    3    3    4    4  GrahamEarnshaw  \n",
       "1     45    0    8    2    5    0    2  GrahamEarnshaw  \n",
       "2     46   14   19   14    5    1    5  GrahamEarnshaw  \n",
       "3     53    1   22   10    8    9    5  GrahamEarnshaw  \n",
       "4     44    4   16   16    5   12    6  GrahamEarnshaw  \n",
       "\n",
       "[5 rows x 822 columns]"
      ]
     },
     "execution_count": 2,
     "metadata": {},
     "output_type": "execute_result"
    }
   ],
   "source": [
    "df = pd.read_csv('Task_3_data_preprocessed.csv')\n",
    "df.head()"
   ]
  },
  {
   "cell_type": "markdown",
   "metadata": {},
   "source": [
    "# Обучающая и тестовая выборки"
   ]
  },
  {
   "cell_type": "code",
   "execution_count": 3,
   "metadata": {},
   "outputs": [],
   "source": [
    "from sklearn.model_selection import train_test_split\n",
    "x_train, x_test, y_train, y_test = train_test_split(df.iloc[:,:821], df.iloc[:,-1], test_size=0.25, random_state=37, stratify = df.iloc[:,-1])"
   ]
  },
  {
   "cell_type": "markdown",
   "metadata": {},
   "source": [
    "# Обучение и оценка модели"
   ]
  },
  {
   "cell_type": "code",
   "execution_count": 4,
   "metadata": {},
   "outputs": [],
   "source": [
    "rfc = RandomForestClassifier(n_jobs=20, random_state=37)\n",
    "from sklearn.metrics import classification_report\n",
    "rfc.fit(x_train, y_train)\n",
    "\n",
    "# Определенные моделью классы\n",
    "y_pred = rfc.predict(x_test)\n",
    "\n",
    "# Оценки\n",
    "a = classification_report(y_test, y_pred, digits=3, output_dict = True)"
   ]
  },
  {
   "cell_type": "markdown",
   "metadata": {},
   "source": [
    "# Результаты"
   ]
  },
  {
   "cell_type": "code",
   "execution_count": 5,
   "metadata": {},
   "outputs": [
    {
     "name": "stdout",
     "output_type": "stream",
     "text": [
      "Precision:  0.711\n",
      "Recall:  0.702\n",
      "F1:  0.698\n"
     ]
    }
   ],
   "source": [
    "print('Precision: ', round(a['macro avg']['precision'],3))\n",
    "print('Recall: ', round(a['macro avg']['recall'],3))\n",
    "print('F1: ', round(a['macro avg']['f1-score'],3))"
   ]
  },
  {
   "cell_type": "code",
   "execution_count": null,
   "metadata": {},
   "outputs": [],
   "source": []
  }
 ],
 "metadata": {
  "kernelspec": {
   "display_name": "Python 3",
   "language": "python",
   "name": "python3"
  },
  "language_info": {
   "codemirror_mode": {
    "name": "ipython",
    "version": 3
   },
   "file_extension": ".py",
   "mimetype": "text/x-python",
   "name": "python",
   "nbconvert_exporter": "python",
   "pygments_lexer": "ipython3",
   "version": "3.7.6"
  }
 },
 "nbformat": 4,
 "nbformat_minor": 4
}
