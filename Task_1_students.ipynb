{
  "nbformat": 4,
  "nbformat_minor": 0,
  "metadata": {
    "kernelspec": {
      "display_name": "Python 3",
      "language": "python",
      "name": "python3"
    },
    "language_info": {
      "codemirror_mode": {
        "name": "ipython",
        "version": 3
      },
      "file_extension": ".py",
      "mimetype": "text/x-python",
      "name": "python",
      "nbconvert_exporter": "python",
      "pygments_lexer": "ipython3",
      "version": "3.7.6"
    },
    "colab": {
      "name": "Task_1_students.ipynb",
      "provenance": [],
      "include_colab_link": true
    }
  },
  "cells": [
    {
      "cell_type": "markdown",
      "metadata": {
        "id": "view-in-github",
        "colab_type": "text"
      },
      "source": [
        "<a href=\"https://colab.research.google.com/github/mishathefirst/InfSecurity/blob/main/Task_1_students.ipynb\" target=\"_parent\"><img src=\"https://colab.research.google.com/assets/colab-badge.svg\" alt=\"Open In Colab\"/></a>"
      ]
    },
    {
      "cell_type": "markdown",
      "metadata": {
        "id": "6tiKxD_y_f_a"
      },
      "source": [
        "# Генерация тренировочного и тестового датасетов"
      ]
    },
    {
      "cell_type": "markdown",
      "metadata": {
        "id": "zt-eLeZp_f_r"
      },
      "source": [
        "Импортируем нужные библиотеки"
      ]
    },
    {
      "cell_type": "code",
      "metadata": {
        "id": "UjG63kps_f_v"
      },
      "source": [
        "import pandas as pd\n",
        "import numpy as np\n",
        "from sklearn.model_selection import train_test_split\n",
        "from sklearn.feature_extraction.text import TfidfVectorizer\n",
        "from sklearn.ensemble import RandomForestClassifier\n",
        "from sklearn.metrics import confusion_matrix\n",
        "from sklearn.metrics import precision_score\n",
        "from sklearn.metrics import classification_report\n",
        "import scipy as sp"
      ],
      "execution_count": null,
      "outputs": []
    },
    {
      "cell_type": "markdown",
      "metadata": {
        "id": "wyQvEyVn_gAD"
      },
      "source": [
        "Прочитаем предварительно обработанный датасет и удалим все строки, с пропусками"
      ]
    },
    {
      "cell_type": "code",
      "metadata": {
        "id": "Q2_UBq4b_gAG",
        "colab": {
          "base_uri": "https://localhost:8080/",
          "height": 53
        },
        "outputId": "c8c6c1cb-d756-49d7-f1a9-a823a0b972e1"
      },
      "source": [
        "from google.colab import drive\n",
        "drive.mount('/content/gdrive')\n",
        "df = pd.read_csv(open('/content/gdrive/My Drive/МО в информационной безопасности/Task_1_prepprocessed.csv'))\n",
        "df = df.dropna()\n",
        "df\n",
        "\n",
        "\"\"\"\n",
        "df.head()\n",
        "\n",
        "df = pd.read_csv('Task_1_prepprocessed.csv')\n",
        "df = df.dropna()\n",
        "df\n",
        "\"\"\""
      ],
      "execution_count": null,
      "outputs": [
        {
          "output_type": "stream",
          "text": [
            "Mounted at /content/gdrive\n"
          ],
          "name": "stdout"
        },
        {
          "output_type": "execute_result",
          "data": {
            "application/vnd.google.colaboratory.intrinsic+json": {
              "type": "string"
            },
            "text/plain": [
              "\"\\ndf.head()\\n\\ndf = pd.read_csv('Task_1_prepprocessed.csv')\\ndf = df.dropna()\\ndf\\n\""
            ]
          },
          "metadata": {
            "tags": []
          },
          "execution_count": 3
        }
      ]
    },
    {
      "cell_type": "code",
      "metadata": {
        "id": "ds97V2FcgcbP",
        "colab": {
          "base_uri": "https://localhost:8080/",
          "height": 417
        },
        "outputId": "e88dba6d-b013-4f0d-f135-01f7312dc131"
      },
      "source": [
        "df"
      ],
      "execution_count": null,
      "outputs": [
        {
          "output_type": "execute_result",
          "data": {
            "text/html": [
              "<div>\n",
              "<style scoped>\n",
              "    .dataframe tbody tr th:only-of-type {\n",
              "        vertical-align: middle;\n",
              "    }\n",
              "\n",
              "    .dataframe tbody tr th {\n",
              "        vertical-align: top;\n",
              "    }\n",
              "\n",
              "    .dataframe thead th {\n",
              "        text-align: right;\n",
              "    }\n",
              "</style>\n",
              "<table border=\"1\" class=\"dataframe\">\n",
              "  <thead>\n",
              "    <tr style=\"text-align: right;\">\n",
              "      <th></th>\n",
              "      <th>class</th>\n",
              "      <th>date</th>\n",
              "      <th>from</th>\n",
              "      <th>to</th>\n",
              "      <th>subject</th>\n",
              "      <th>body</th>\n",
              "    </tr>\n",
              "  </thead>\n",
              "  <tbody>\n",
              "    <tr>\n",
              "      <th>0</th>\n",
              "      <td>0</td>\n",
              "      <td>4</td>\n",
              "      <td>info@global-change.com</td>\n",
              "      <td>michelle.lokay@enron.com</td>\n",
              "      <td>next wave energi trade</td>\n",
              "      <td>energi industri profession global chang associ...</td>\n",
              "    </tr>\n",
              "    <tr>\n",
              "      <th>1</th>\n",
              "      <td>0</td>\n",
              "      <td>1</td>\n",
              "      <td>info@pmaconference.com</td>\n",
              "      <td>michelle.lokay@enron.com</td>\n",
              "      <td>regist next txu capac auction</td>\n",
              "      <td>regist next txu energi capac auction new regis...</td>\n",
              "    </tr>\n",
              "    <tr>\n",
              "      <th>2</th>\n",
              "      <td>0</td>\n",
              "      <td>6</td>\n",
              "      <td>info@pmaconference.com</td>\n",
              "      <td>michelle.lokay@enron.com</td>\n",
              "      <td>merchant power monthli free sampl</td>\n",
              "      <td>merchant power monthli month s issu almost mw ...</td>\n",
              "    </tr>\n",
              "    <tr>\n",
              "      <th>3</th>\n",
              "      <td>0</td>\n",
              "      <td>3</td>\n",
              "      <td>bruno@firstconf.com</td>\n",
              "      <td>energynews@fc.ease.lsoft.com</td>\n",
              "      <td>eyeforenergi updat</td>\n",
              "      <td>welcom week s eyeforenergi updat refresh memor...</td>\n",
              "    </tr>\n",
              "    <tr>\n",
              "      <th>4</th>\n",
              "      <td>0</td>\n",
              "      <td>1</td>\n",
              "      <td>deanrogers@energyclasses.com</td>\n",
              "      <td>michelle.lokay@enron.com</td>\n",
              "      <td>deriv earli bird til march houston</td>\n",
              "      <td>deriv energi profession two full day april ear...</td>\n",
              "    </tr>\n",
              "    <tr>\n",
              "      <th>...</th>\n",
              "      <td>...</td>\n",
              "      <td>...</td>\n",
              "      <td>...</td>\n",
              "      <td>...</td>\n",
              "      <td>...</td>\n",
              "      <td>...</td>\n",
              "    </tr>\n",
              "    <tr>\n",
              "      <th>30687</th>\n",
              "      <td>1</td>\n",
              "      <td>3</td>\n",
              "      <td>jacob rzucidlo &lt;lavoneaker@stalag13.com&gt;</td>\n",
              "      <td>johnny wynott &lt;varou@iit.demokritos.gr&gt;</td>\n",
              "      <td>cpu pain m edicati n ship d r</td>\n",
              "      <td>arrghh west amnstv amlsmith basu petrom qureai...</td>\n",
              "    </tr>\n",
              "    <tr>\n",
              "      <th>30688</th>\n",
              "      <td>1</td>\n",
              "      <td>5</td>\n",
              "      <td>hal leake &lt;annettgaskell@buglover.net&gt;</td>\n",
              "      <td>renato mooney &lt;sigletos@iit.demokritos.gr&gt;</td>\n",
              "      <td>dn troubl f r ee</td>\n",
              "      <td>dn troubl f r ee angiospasma zekauskasa anarti...</td>\n",
              "    </tr>\n",
              "    <tr>\n",
              "      <th>30689</th>\n",
              "      <td>1</td>\n",
              "      <td>2</td>\n",
              "      <td>dr collins khumalo &lt;khumalo_20@sunumail.sn&gt;</td>\n",
              "      <td>khumalo_20@sunumail.sn</td>\n",
              "      <td>dr collin khumalo</td>\n",
              "      <td>dr collin khumalo attn mr presid dr collin khu...</td>\n",
              "    </tr>\n",
              "    <tr>\n",
              "      <th>30690</th>\n",
              "      <td>1</td>\n",
              "      <td>6</td>\n",
              "      <td>Customer Support &lt;support@citibank.com&gt;</td>\n",
              "      <td>Paliourg &lt;paliourg@iit.demokritos.gr&gt;</td>\n",
              "      <td>dear custom detail compromis</td>\n",
              "      <td>dear custom detail compromis dear custom recen...</td>\n",
              "    </tr>\n",
              "    <tr>\n",
              "      <th>30691</th>\n",
              "      <td>1</td>\n",
              "      <td>6</td>\n",
              "      <td>Tapanga Cribbin &lt;James_Lam@cnwl.igs.net&gt;</td>\n",
              "      <td>paliourg@iit.demokritos.gr</td>\n",
              "      <td>fwd great news</td>\n",
              "      <td>state shall without consent congress lay impos...</td>\n",
              "    </tr>\n",
              "  </tbody>\n",
              "</table>\n",
              "<p>29890 rows × 6 columns</p>\n",
              "</div>"
            ],
            "text/plain": [
              "       class  ...                                               body\n",
              "0          0  ...  energi industri profession global chang associ...\n",
              "1          0  ...  regist next txu energi capac auction new regis...\n",
              "2          0  ...  merchant power monthli month s issu almost mw ...\n",
              "3          0  ...  welcom week s eyeforenergi updat refresh memor...\n",
              "4          0  ...  deriv energi profession two full day april ear...\n",
              "...      ...  ...                                                ...\n",
              "30687      1  ...  arrghh west amnstv amlsmith basu petrom qureai...\n",
              "30688      1  ...  dn troubl f r ee angiospasma zekauskasa anarti...\n",
              "30689      1  ...  dr collin khumalo attn mr presid dr collin khu...\n",
              "30690      1  ...  dear custom detail compromis dear custom recen...\n",
              "30691      1  ...  state shall without consent congress lay impos...\n",
              "\n",
              "[29890 rows x 6 columns]"
            ]
          },
          "metadata": {
            "tags": []
          },
          "execution_count": 4
        }
      ]
    },
    {
      "cell_type": "markdown",
      "metadata": {
        "id": "xlXvvM1C_gAX"
      },
      "source": [
        "Сравним результаты, полученные при использовании трех различных способов векторизации:\n",
        "<ol>\n",
        "    <li>Базовый (в качестве предиктора используется только <code>body</code>).\n",
        "    <li>В качестве предикторов используем объединенные признаки <code>subject</code> и <code>body</code>, а также день недели, полученный из колонки <code>date</code>. \n",
        "    <li>Аналогично 1., только с использованием n-грамм.\n",
        "</ol>"
      ]
    },
    {
      "cell_type": "markdown",
      "metadata": {
        "id": "J2y1ieqZ_gAZ"
      },
      "source": [
        "Для базового алгоритма из загруженного датасета возьмем только колонку <code>body</code> и колонку <code>class</code> с обозначением класса сообщения (идет первой)."
      ]
    },
    {
      "cell_type": "code",
      "metadata": {
        "id": "qzpRAoJ2_gAc"
      },
      "source": [
        "x_train, x_test, y_train, y_test = train_test_split(\n",
        "    df.iloc[:, 5], df.iloc[:,0], test_size=0.1, random_state=35)"
      ],
      "execution_count": null,
      "outputs": []
    },
    {
      "cell_type": "markdown",
      "metadata": {
        "id": "LePhHod4_gAq"
      },
      "source": [
        "Чтобы не модифицировать данные, использующиеся для базового алгоритма, сделаем глубокую копию данных для их дальнейшего преобразования. В частности, на копии произведем конкатенацию колонок `subject` и `body`. При разделении копии на тренировочный и тестовый наборы используем тот же `random_state`, что и для основого алгоритма, в целях сохранения соответствия полученных наборов."
      ]
    },
    {
      "cell_type": "code",
      "metadata": {
        "id": "ArccxY3Y_gAs"
      },
      "source": [
        "df_copy = df.copy(deep = True)\n",
        "\n",
        "for i in range(len(df_copy)):\n",
        "    if df.iat[i, 4] != '':\n",
        "        try:\n",
        "            df_copy.iat[i, 5] = df_copy.iat[i, 4] + ' ' + df_copy.iat[i, 5]\n",
        "        except:\n",
        "            print(\"Something got wrong!\")\n",
        "            \n",
        "x_train_b, x_test_b, _, _ = train_test_split(\n",
        "    df_copy.iloc[:, [1, 5]], df_copy.iloc[:,0], test_size=0.3, random_state=65)\n",
        "\n",
        "# y_train_b и y_test_b совпадают с y_train, y_test. Хранить их отдельно надобности нет."
      ],
      "execution_count": null,
      "outputs": []
    },
    {
      "cell_type": "markdown",
      "metadata": {
        "id": "iFKtIc-n_gA4"
      },
      "source": [
        "# Генерация признаков"
      ]
    },
    {
      "cell_type": "markdown",
      "metadata": {
        "id": "WinXbheM_gA7"
      },
      "source": [
        "Для базового алгоритма сначала из тренировочного набора данных составим словарь, используемый для векторизации и генерации признаков TF-IDF, во время преобразования тренировочного набора данных. Затем этот же словарь используем в функции трансформации тестового набора. Предлагаемый класс <code>TfidfVectorizer</code> используем с параметрами по умолчанию."
      ]
    },
    {
      "cell_type": "code",
      "metadata": {
        "id": "pssjMQ7c_gA9"
      },
      "source": [
        "vectorizer_a = TfidfVectorizer()\n",
        "\n",
        "x_train_a = vectorizer_a.fit_transform(x_train)\n",
        "x_test_a = vectorizer_a.transform(x_test)"
      ],
      "execution_count": null,
      "outputs": []
    },
    {
      "cell_type": "markdown",
      "metadata": {
        "id": "CZK3TV6y_gBI"
      },
      "source": [
        "Для модифицированного алгоритма, где используется день недели, векторизацию произведем на колонке конкатенированных темы письма и содержания. К результату выполнения векторизации добавим колонку индексов дней недели. В данном случае векторизатор также инициализируем с параметрами по умолчанию."
      ]
    },
    {
      "cell_type": "code",
      "metadata": {
        "id": "-rKcccit_gBL"
      },
      "source": [
        "vectorizer_b = TfidfVectorizer()\n",
        "# Добавляем к полученной в результате векторизации разреженной матрице столбец со значениями дней недели\n",
        "x_train_b = sp.sparse.hstack((vectorizer_b.fit_transform(x_train_b.iloc[:, 1]), x_train_b.iloc[:, 0].values.reshape(len(x_train_b.iloc[:, 0]),1)))\n",
        "x_test_b = sp.sparse.hstack((vectorizer_b.transform(x_test_b.iloc[:, 1]), x_test_b.iloc[:, 0].values.reshape(len(x_test_b.iloc[:, 0]),1)))"
      ],
      "execution_count": null,
      "outputs": []
    },
    {
      "cell_type": "markdown",
      "metadata": {
        "id": "vuozRSzA_gBY"
      },
      "source": [
        "В третьем сценарии, где вместо слов используются биграммы для генерации признаков TF-IDF, при инициализации векторизатора укажем параметр <code>ngram_range = (2, 2)</code>."
      ]
    },
    {
      "cell_type": "code",
      "metadata": {
        "id": "rvf4SfGw_gBb"
      },
      "source": [
        "vectorizer_c = TfidfVectorizer(ngram_range = (2, 2))\n",
        "\n",
        "x_train_c = vectorizer_c.fit_transform(x_train)\n",
        "x_test_c = vectorizer_c.transform(x_test)"
      ],
      "execution_count": null,
      "outputs": []
    },
    {
      "cell_type": "markdown",
      "metadata": {
        "id": "5rg3Zxbn_gBk"
      },
      "source": [
        "# Классификация\n",
        "\n",
        "Инициализируем три классификатора с одинаковыми параметрами."
      ]
    },
    {
      "cell_type": "code",
      "metadata": {
        "id": "_MqdO8fn_gBl",
        "colab": {
          "base_uri": "https://localhost:8080/"
        },
        "outputId": "088eb14d-4b0e-41d6-f7d8-2858743b995e"
      },
      "source": [
        "rfc_a = RandomForestClassifier(random_state=65, n_jobs=10, n_estimators=10)\n",
        "rfc_b = RandomForestClassifier(random_state=65, n_jobs=10, n_estimators=10)\n",
        "rfc_c = RandomForestClassifier(random_state=65, n_jobs=10, n_estimators=10)\n",
        "\n",
        "rfc_a.fit(x_train_a, y_train)\n",
        "rfc_b.fit(x_train_b, y_train)\n",
        "rfc_c.fit(x_train_c, y_train)"
      ],
      "execution_count": null,
      "outputs": [
        {
          "output_type": "execute_result",
          "data": {
            "text/plain": [
              "RandomForestClassifier(bootstrap=True, ccp_alpha=0.0, class_weight=None,\n",
              "                       criterion='gini', max_depth=None, max_features='auto',\n",
              "                       max_leaf_nodes=None, max_samples=None,\n",
              "                       min_impurity_decrease=0.0, min_impurity_split=None,\n",
              "                       min_samples_leaf=1, min_samples_split=2,\n",
              "                       min_weight_fraction_leaf=0.0, n_estimators=10, n_jobs=10,\n",
              "                       oob_score=False, random_state=65, verbose=0,\n",
              "                       warm_start=False)"
            ]
          },
          "metadata": {
            "tags": []
          },
          "execution_count": 19
        }
      ]
    },
    {
      "cell_type": "markdown",
      "metadata": {
        "id": "WMiLEtZ5_gBs"
      },
      "source": [
        "# Расчет метрик\n",
        "Для получения метрик удобнее всего воспользоваться модулем `sklearn.metrics`. Выполним предсказания на тестовых данных и выполним оценку полученных моделей для трех случаев."
      ]
    },
    {
      "cell_type": "code",
      "metadata": {
        "id": "GIY9LUuE_gBu",
        "colab": {
          "base_uri": "https://localhost:8080/"
        },
        "outputId": "2b10b654-1b43-410f-8e41-1769d8dbd99f"
      },
      "source": [
        "y_pred_a = rfc_a.predict(x_test_a)\n",
        "y_pred_b = rfc_b.predict(x_test_b)\n",
        "y_pred_c = rfc_c.predict(x_test_c)\n",
        "\n",
        "\n",
        "print(classification_report(y_test, y_pred_a, digits=3))\n",
        "print(classification_report(y_test, y_pred_b, digits=3))\n",
        "print(classification_report(y_test, y_pred_c, digits=3))"
      ],
      "execution_count": null,
      "outputs": [
        {
          "output_type": "stream",
          "text": [
            "              precision    recall  f1-score   support\n",
            "\n",
            "           0      0.946     0.990     0.968      4728\n",
            "           1      0.989     0.937     0.962      4239\n",
            "\n",
            "    accuracy                          0.965      8967\n",
            "   macro avg      0.967     0.964     0.965      8967\n",
            "weighted avg      0.966     0.965     0.965      8967\n",
            "\n",
            "              precision    recall  f1-score   support\n",
            "\n",
            "           0      0.949     0.991     0.969      4728\n",
            "           1      0.989     0.941     0.964      4239\n",
            "\n",
            "    accuracy                          0.967      8967\n",
            "   macro avg      0.969     0.966     0.967      8967\n",
            "weighted avg      0.968     0.967     0.967      8967\n",
            "\n",
            "              precision    recall  f1-score   support\n",
            "\n",
            "           0      0.923     0.987     0.954      4728\n",
            "           1      0.984     0.908     0.944      4239\n",
            "\n",
            "    accuracy                          0.949      8967\n",
            "   macro avg      0.953     0.947     0.949      8967\n",
            "weighted avg      0.952     0.949     0.949      8967\n",
            "\n"
          ],
          "name": "stdout"
        }
      ]
    },
    {
      "cell_type": "markdown",
      "metadata": {
        "id": "M_Y5nOog_gB1"
      },
      "source": [
        "Для примера сравним первые два сценирия с точки зрения FPR и precision.\n",
        "Для получения FPR достаточно сгенерировать confusion matrix и рассчитать его на основе значений из матрицы, в то время как precision может быть получен с помощью отдельной функции."
      ]
    },
    {
      "cell_type": "code",
      "metadata": {
        "id": "nAFlHy64_gB2",
        "colab": {
          "base_uri": "https://localhost:8080/"
        },
        "outputId": "2b25b85d-69dc-4f60-ff15-3c5841e1cd25"
      },
      "source": [
        "tn_a, fp_a, _, _  = confusion_matrix(y_test, y_pred_a).ravel()\n",
        "tn_b, fp_b, _, _ = confusion_matrix(y_test, y_pred_b).ravel()\n",
        "\n",
        "fpr_a = fp_a / (fp_a + tn_a)\n",
        "fpr_b = fp_b / (fp_b + tn_b)\n",
        "\n",
        "pr_a = precision_score(y_test, y_pred_a)\n",
        "pr_b = precision_score(y_test, y_pred_b)\n",
        "\n",
        "print(f'Difference in FPR: {fpr_b - fpr_a}')\n",
        "print(f'Difference in precision: {pr_b - pr_a}')"
      ],
      "execution_count": null,
      "outputs": [
        {
          "output_type": "stream",
          "text": [
            "Difference in FPR: -0.000423011844331642\n",
            "Difference in precision: 0.0005386334269830151\n"
          ],
          "name": "stdout"
        }
      ]
    }
  ]
}