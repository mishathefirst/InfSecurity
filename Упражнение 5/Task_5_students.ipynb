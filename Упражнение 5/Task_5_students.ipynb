{
 "cells": [
  {
   "cell_type": "markdown",
   "metadata": {},
   "source": [
    "# Используемые модули"
   ]
  },
  {
   "cell_type": "code",
   "execution_count": 1,
   "metadata": {},
   "outputs": [
    {
     "name": "stdout",
     "output_type": "stream",
     "text": [
      "Requirement already up-to-date: pip in /Users/dmitriair/opt/anaconda3/lib/python3.7/site-packages (20.2.4)\n",
      "Requirement already satisfied: scikit-learn==0.23.0 in /Users/dmitriair/opt/anaconda3/lib/python3.7/site-packages (0.23.0)\n",
      "Requirement already satisfied: threadpoolctl>=2.0.0 in /Users/dmitriair/opt/anaconda3/lib/python3.7/site-packages (from scikit-learn==0.23.0) (2.1.0)\n",
      "Requirement already satisfied: numpy>=1.13.3 in /Users/dmitriair/opt/anaconda3/lib/python3.7/site-packages (from scikit-learn==0.23.0) (1.18.0)\n",
      "Requirement already satisfied: scipy>=0.19.1 in /Users/dmitriair/opt/anaconda3/lib/python3.7/site-packages (from scikit-learn==0.23.0) (1.4.1)\n",
      "Requirement already satisfied: joblib>=0.11 in /Users/dmitriair/opt/anaconda3/lib/python3.7/site-packages (from scikit-learn==0.23.0) (0.14.1)\n"
     ]
    }
   ],
   "source": [
    "import pandas as pd\n",
    "import numpy as np\n",
    "from sklearn.model_selection import cross_validate\n",
    "from sklearn.tree import DecisionTreeClassifier\n",
    "from sklearn.ensemble import RandomForestClassifier\n",
    "from sklearn.linear_model import LogisticRegression\n",
    "# в разных версиях ответы могут отличаться, поэтому важно иметь одну и ту же\n",
    "!pip install --upgrade pip\n",
    "!pip install scikit-learn==0.23.0"
   ]
  },
  {
   "cell_type": "markdown",
   "metadata": {},
   "source": [
    "# Загрузка данных"
   ]
  },
  {
   "cell_type": "code",
   "execution_count": 3,
   "metadata": {},
   "outputs": [],
   "source": [
    "df = pd.read_csv('Task_5_selected_data.csv')\n",
    "\n",
    "X = df.iloc[:, :-1] #Предикторы\n",
    "y = df.iloc[:, -1] #Классы"
   ]
  },
  {
   "cell_type": "markdown",
   "metadata": {},
   "source": [
    "# Инициализация классификаторов\n",
    "\n",
    "Для логистической регрессии можно увеличить максимальное количество итераций через параметр max_iter (по умолчанию 100), от этого время исполнения увеличится"
   ]
  },
  {
   "cell_type": "code",
   "execution_count": 10,
   "metadata": {},
   "outputs": [],
   "source": [
    "from tqdm import tqdm\n",
    "\n",
    "seed = 10\n",
    "estimators = {\n",
    "    'logit': LogisticRegression(n_jobs=-3, random_state=seed),\n",
    "    'dtc': DecisionTreeClassifier(random_state=seed),\n",
    "    'rfc': RandomForestClassifier(random_state=seed, n_jobs=-3)\n",
    "}"
   ]
  },
  {
   "cell_type": "markdown",
   "metadata": {},
   "source": [
    "## Обучение моделей и кросс валидация"
   ]
  },
  {
   "cell_type": "code",
   "execution_count": 11,
   "metadata": {},
   "outputs": [
    {
     "name": "stderr",
     "output_type": "stream",
     "text": [
      "100%|██████████| 3/3 [00:11<00:00,  3.80s/it]\n"
     ]
    }
   ],
   "source": [
    "from sklearn.model_selection import cross_validate\n",
    "from sklearn.model_selection import ShuffleSplit\n",
    "\n",
    "results = {}\n",
    "\n",
    "#Произведем кросс валидацию на 10 блоков с предварительным случайным перемешиванием\n",
    "cv = 10\n",
    "cross_val = ShuffleSplit(n_splits = cv, test_size = 1/cv, random_state = seed)\n",
    "for name, est in tqdm(estimators.items()):\n",
    "    scores = cross_validate(est, X, y, scoring=['accuracy', 'f1_weighted', 'roc_auc_ovr_weighted'], cv = cross_val, n_jobs=-3)\n",
    "    results.update({name: scores})"
   ]
  },
  {
   "cell_type": "markdown",
   "metadata": {},
   "source": [
    "## Вывод результатов"
   ]
  },
  {
   "cell_type": "code",
   "execution_count": 12,
   "metadata": {},
   "outputs": [
    {
     "name": "stderr",
     "output_type": "stream",
     "text": [
      "100%|██████████| 3/3 [00:00<00:00, 628.71it/s]"
     ]
    },
    {
     "name": "stdout",
     "output_type": "stream",
     "text": [
      "\n",
      "Results for logit\n",
      "Accuracy: 0.266\n",
      "F1: 0.181\n",
      "ROC AUC: 0.615\n",
      "\n",
      "Results for dtc\n",
      "Accuracy: 0.739\n",
      "F1: 0.738\n",
      "ROC AUC: 0.837\n",
      "\n",
      "Results for rfc\n",
      "Accuracy: 0.797\n",
      "F1: 0.796\n",
      "ROC AUC: 0.953\n"
     ]
    },
    {
     "name": "stderr",
     "output_type": "stream",
     "text": [
      "\n"
     ]
    }
   ],
   "source": [
    "for est in tqdm(estimators.keys()):\n",
    "    acc = results[est]['test_accuracy']\n",
    "    f1 = results[est]['test_f1_weighted']\n",
    "    roc_auc = results[est]['test_roc_auc_ovr_weighted']\n",
    "    print(f'\\nResults for {est}')\n",
    "    print(f'Accuracy: {round(np.mean(acc),3)}')\n",
    "    print(f'F1: {round(np.mean(f1),3)}')\n",
    "    print(f'ROC AUC: {round(np.mean(roc_auc),3)}')"
   ]
  },
  {
   "cell_type": "code",
   "execution_count": null,
   "metadata": {},
   "outputs": [],
   "source": []
  }
 ],
 "metadata": {
  "kernelspec": {
   "display_name": "Python 3",
   "language": "python",
   "name": "python3"
  },
  "language_info": {
   "codemirror_mode": {
    "name": "ipython",
    "version": 3
   },
   "file_extension": ".py",
   "mimetype": "text/x-python",
   "name": "python",
   "nbconvert_exporter": "python",
   "pygments_lexer": "ipython3",
   "version": "3.7.6"
  }
 },
 "nbformat": 4,
 "nbformat_minor": 4
}
